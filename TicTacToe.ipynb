{
 "cells": [
  {
   "cell_type": "code",
   "execution_count": 54,
   "id": "c77fd643",
   "metadata": {},
   "outputs": [],
   "source": [
    "from IPython.display import clear_output\n",
    "\n",
    "def display_board(board):\n",
    "    clear_output()\n",
    "    print(board[7]+'|'+board[8]+'|'+board[9])\n",
    "    print(\"-----\")\n",
    "    print(board[4]+'|'+board[5]+'|'+board[6])\n",
    "    print(\"-----\")\n",
    "    print(board[1]+'|'+board[2]+'|'+board[3])\n",
    "    \n",
    "  \n"
   ]
  },
  {
   "cell_type": "code",
   "execution_count": 55,
   "id": "2bc9de41",
   "metadata": {},
   "outputs": [],
   "source": [
    "\n",
    "#COPY AND PASTE POSITION_CHOICE BECAUSE OF SIMILARITIES\n",
    "\n",
    "def player_input():\n",
    "    \n",
    "    marker = ''\n",
    "    \n",
    "    while not (marker== 'X' or marker== 'O'):\n",
    "        \n",
    "        marker =input(\"Player 1: Would you like to play as X or O? \").upper()\n",
    "        \n",
    "        if marker == 'X':\n",
    "            return ('X', 'O')\n",
    "        else:\n",
    "            return ('O', 'X')"
   ]
  },
  {
   "cell_type": "code",
   "execution_count": 56,
   "id": "41870bbf",
   "metadata": {},
   "outputs": [],
   "source": [
    "def place_marker(board, marker, position):\n",
    "    \n",
    "    #LOOKS LIKE IT TAKES THE 0 POSITION OF BOARD AND EQUATS THAT TO MARKER\n",
    "    board[position] = marker"
   ]
  },
  {
   "cell_type": "code",
   "execution_count": 57,
   "id": "91e0f3f9",
   "metadata": {},
   "outputs": [
    {
     "name": "stdout",
     "output_type": "stream",
     "text": [
      "X|O|X\n",
      "-----\n",
      "O|X|O\n",
      "-----\n",
      "X|O|X\n"
     ]
    }
   ],
   "source": [
    "test_board = ['#','X','O','X','O','X','O','X','O','X']\n",
    "display_board(test_board)"
   ]
  },
  {
   "cell_type": "code",
   "execution_count": 58,
   "id": "d1166525",
   "metadata": {},
   "outputs": [
    {
     "name": "stdout",
     "output_type": "stream",
     "text": [
      "X|$|X\n",
      "-----\n",
      "O|X|O\n",
      "-----\n",
      "X|O|X\n"
     ]
    }
   ],
   "source": [
    "place_marker(test_board,'$',8)\n",
    "display_board(test_board)"
   ]
  },
  {
   "cell_type": "code",
   "execution_count": 59,
   "id": "9a22339b",
   "metadata": {},
   "outputs": [],
   "source": [
    "def win_check(board, mark):\n",
    "    \n",
    "    #WIN TIC TAC TOE\n",
    "    \n",
    "    #ALL ROWS, AND CHECK TO SEE IF ALL SHARE SAME MARKER\n",
    "       return ((board[1] == mark and board [2] == mark and board [3] == mark) or\n",
    "        (board[4] == mark and board [5] == mark and board [6] == mark) or\n",
    "        (board[7] == mark and board [8] == mark and board [9] == mark) or\n",
    "    \n",
    "    #ALL COLUMNS \n",
    "        (board[1] == mark and board [4] == mark and board [7] == mark) or\n",
    "        (board[2] == mark and board [5] == mark and board [8] == mark) or\n",
    "        (board[3] == mark and board [6] == mark and board [9] == mark) or\n",
    "    \n",
    "    #TWO DIAGNOLS \n",
    "        (board[1] == mark and board [5] == mark and board [9] == mark) or\n",
    "        (board[3] == mark and board [5] == mark and board [7] == mark))\n",
    "            \n",
    "        "
   ]
  },
  {
   "cell_type": "code",
   "execution_count": 60,
   "id": "a6a2c05e",
   "metadata": {},
   "outputs": [
    {
     "name": "stdout",
     "output_type": "stream",
     "text": [
      "X|$|X\n",
      "-----\n",
      "O|X|O\n",
      "-----\n",
      "X|O|X\n"
     ]
    },
    {
     "data": {
      "text/plain": [
       "True"
      ]
     },
     "execution_count": 60,
     "metadata": {},
     "output_type": "execute_result"
    }
   ],
   "source": [
    "display_board(test_board)\n",
    "win_check(test_board, 'X')"
   ]
  },
  {
   "cell_type": "code",
   "execution_count": 61,
   "id": "3ada1e53",
   "metadata": {},
   "outputs": [],
   "source": [
    "import random\n",
    "\n",
    "def choose_first():\n",
    "    \n",
    "    #COIN FLIP TO SEE WHO GOES FIRST \n",
    "    flip = random.randint(0,1)\n",
    "    \n",
    "    if flip == 0:\n",
    "        return 'Player 1'\n",
    "    else:\n",
    "        return 'Player 2'"
   ]
  },
  {
   "cell_type": "code",
   "execution_count": 62,
   "id": "646fba14",
   "metadata": {},
   "outputs": [],
   "source": [
    "def space_check(board, position):\n",
    "    \n",
    "    #RETURN IS A BOOLEAN UNLESS OTHERWISE NOTED\n",
    "    return board[position] == ' '"
   ]
  },
  {
   "cell_type": "code",
   "execution_count": 63,
   "id": "c17575d3",
   "metadata": {},
   "outputs": [],
   "source": [
    "def full_board_check(board):\n",
    "    \n",
    "    for i in range(1,10):\n",
    "        if space_check(board,i):\n",
    "            return False\n",
    "        \n",
    "        #BOARD IS FULL IF WE RETURN TRUE\n",
    "    return True\n",
    "    "
   ]
  },
  {
   "cell_type": "code",
   "execution_count": 64,
   "id": "d1bc5b55",
   "metadata": {},
   "outputs": [],
   "source": [
    "def player_choice(board):\n",
    "    \n",
    "    #GOOD PLACE TO START AS NOTHING IS HAPPENING AT POSITION 0\n",
    "    position = 0\n",
    "    \n",
    "    #CALL SPACE CHEECK TO SEE IF SPACE IS AVAILABLE \n",
    "    while position not in [1,2,3,4,5,6,7,8,9] or not space_check(board, position):\n",
    "        position = int(input('Choose a position: (1-9)'))\n",
    "        \n",
    "    return position"
   ]
  },
  {
   "cell_type": "code",
   "execution_count": 67,
   "id": "a86cf4f9",
   "metadata": {},
   "outputs": [],
   "source": [
    "def replay():\n",
    "    \n",
    "    choice = 'wrong'\n",
    "    \n",
    "    while choice not in ['Yes', 'No']:\n",
    "        \n",
    "        choice=input(\"Would you like to play again? (Yes or No) \")\n",
    "        \n",
    "        if choice not in ['Yes','No']:\n",
    "            print (\"Sorry, I don't understand, please choose Yes or No \")\n",
    "            \n",
    "    if choice == \"Yes\":\n",
    "        return True\n",
    "    else:\n",
    "        return False"
   ]
  },
  {
   "cell_type": "code",
   "execution_count": 68,
   "id": "00891d48",
   "metadata": {},
   "outputs": [
    {
     "name": "stdout",
     "output_type": "stream",
     "text": [
      "X| | \n",
      "-----\n",
      "O|X|O\n",
      "-----\n",
      "X|O|X\n",
      "Player Two has won!!!\n",
      "Would you like to play again? (Yes or No) n\n",
      "Sorry, I don't understand, please choose Yes or No \n",
      "Would you like to play again? (Yes or No) No\n"
     ]
    }
   ],
   "source": [
    "#WHILE LOOP TO KEEP RUNNING THE GAME\n",
    "print(\"Welcome to Tic Tac Toe\")\n",
    "\n",
    "while True: \n",
    "\n",
    "    #PLAY GAME\n",
    "    \n",
    "    \n",
    "    #SET EVERYTHING UP (BOARD, WHO'S FIRST, CHOOSE MARKERS X,O)\n",
    "    the_board = [' ']*10\n",
    "    player1_marker, player2_marker = player_input()\n",
    "    turn = choose_first()\n",
    "    print(turn + ' will go first')\n",
    "    \n",
    "    play_game = input('Ready to play? Y or N? ')\n",
    "    \n",
    "    if play_game == 'Y':\n",
    "        game_on= True\n",
    "    else:\n",
    "        game_on=False\n",
    "    \n",
    "    #GAME PLAY\n",
    "    \n",
    "    while game_on:\n",
    "        \n",
    "         #PLAYER ONE TURN\n",
    "        \n",
    "        if turn == 'Player 1':\n",
    "            \n",
    "            #SHOW BOARD\n",
    "            display_board(the_board)\n",
    "            \n",
    "            #CHOOSE A POSITION\n",
    "            position = player_choice(the_board)\n",
    "            \n",
    "            #PLACE THE MARKER ON THE POSITION\n",
    "            place_marker(the_board, player1_marker, position)\n",
    "            \n",
    "            #CHECK IF WON\n",
    "            if win_check(the_board,player1_marker):\n",
    "                display_board(the_board)\n",
    "                print ('Player One has won!!!')\n",
    "                game_on=False\n",
    "            \n",
    "            #CHECK IF THERE IS A TIE\n",
    "            else:\n",
    "                if full_board_check(the_board):\n",
    "                    display_board(the_board)\n",
    "                    print ('The game has ended in a TIE!')\n",
    "                    break\n",
    "             #NO TIE OR WIN? THEN NEXT PLAYERS TURN       \n",
    "                else: \n",
    "                    turn = 'Player 2'\n",
    "            \n",
    "            #PLAYER TWO TURN\n",
    "        else:\n",
    "            \n",
    "            #SHOW BOARD\n",
    "            display_board(the_board)\n",
    "            \n",
    "            #CHOOSE A POSITION\n",
    "            position = player_choice(the_board)\n",
    "            \n",
    "            #PLACE THE MARKER ON THE POSITION\n",
    "            place_marker(the_board, player2_marker, position)\n",
    "            \n",
    "            #CHECK IF WON\n",
    "            if win_check(the_board,player2_marker):\n",
    "                display_board(the_board)\n",
    "                print ('Player Two has won!!!')\n",
    "                game_on=False\n",
    "            \n",
    "            #CHECK IF THERE IS A TIE\n",
    "            else:\n",
    "                if full_board_check(the_board):\n",
    "                    display_board(the_board)\n",
    "                    print ('The game has ended in a TIE!')\n",
    "                    break\n",
    "             #NO TIE OR WIN? THEN NEXT PLAYERS TURN       \n",
    "                else: \n",
    "                    turn = 'Player 1'\n",
    "\n",
    "    \n",
    "    if not replay():\n",
    "        break\n",
    "\n",
    "#BREAK OUT OF THE WHILE LOOP ON REPLAY"
   ]
  },
  {
   "cell_type": "code",
   "execution_count": null,
   "id": "d4a62eb7",
   "metadata": {},
   "outputs": [],
   "source": []
  },
  {
   "cell_type": "code",
   "execution_count": null,
   "id": "ab3c32a8",
   "metadata": {},
   "outputs": [],
   "source": []
  }
 ],
 "metadata": {
  "kernelspec": {
   "display_name": "Python 3",
   "language": "python",
   "name": "python3"
  },
  "language_info": {
   "codemirror_mode": {
    "name": "ipython",
    "version": 3
   },
   "file_extension": ".py",
   "mimetype": "text/x-python",
   "name": "python",
   "nbconvert_exporter": "python",
   "pygments_lexer": "ipython3",
   "version": "3.8.8"
  }
 },
 "nbformat": 4,
 "nbformat_minor": 5
}
